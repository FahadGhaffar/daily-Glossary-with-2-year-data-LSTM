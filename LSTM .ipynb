{
 "cells": [
  {
   "cell_type": "code",
   "execution_count": 1,
   "metadata": {},
   "outputs": [],
   "source": [
    "import numpy as np\n",
    "import matplotlib.pyplot as plt\n",
    "import pandas as pd\n",
    "from sklearn.preprocessing import MinMaxScaler\n",
    "from sklearn.model_selection import train_test_split\n",
    "from tqdm import tqdm_notebook\n",
    "from tensorflow.keras.optimizers import SGD,RMSprop,Adam\n",
    "from tensorflow import keras\n",
    "from tensorflow.keras.layers import Dense,LSTM,Dropout\n",
    "from tensorflow.keras.models import Sequential\n",
    "from tensorflow.keras import optimizers\n",
    "from tensorflow.keras.preprocessing.sequence import TimeseriesGenerator\n",
    "from tensorflow.keras.utils import normalize"
   ]
  },
  {
   "cell_type": "code",
   "execution_count": 2,
   "metadata": {},
   "outputs": [],
   "source": [
    "data=pd.read_excel('dataset/ZPEHbb.xlsx',date_parser=True,)"
   ]
  },
  {
   "cell_type": "code",
   "execution_count": 3,
   "metadata": {},
   "outputs": [],
   "source": [
    "data.set_index(\"Date\",inplace=True)"
   ]
  },
  {
   "cell_type": "code",
   "execution_count": 4,
   "metadata": {},
   "outputs": [
    {
     "data": {
      "text/plain": [
       "Index(['1-Jan-2018', '2-Jan-2018', '3-Jan-2018', '4-Jan-2018', '5-Jan-2018',\n",
       "       '6-Jan-2018', '7-Jan-2018', '8-Jan-2018', '9-Jan-2018', '10-Jan-2018',\n",
       "       ...\n",
       "       '22-Dec-2019', '23-Dec-2019', '24-Dec-2019', '25-Dec-2019',\n",
       "       '26-Dec-2019', '27-Dec-2019', '28-Dec-2019', '29-Dec-2019',\n",
       "       '30-Dec-2019', '31-Dec-2019'],\n",
       "      dtype='object', name='Date', length=730)"
      ]
     },
     "execution_count": 4,
     "metadata": {},
     "output_type": "execute_result"
    }
   ],
   "source": [
    "data.index"
   ]
  },
  {
   "cell_type": "code",
   "execution_count": 5,
   "metadata": {},
   "outputs": [],
   "source": [
    "data.index=pd.to_datetime(data.index)"
   ]
  },
  {
   "cell_type": "code",
   "execution_count": 6,
   "metadata": {},
   "outputs": [
    {
     "name": "stdout",
     "output_type": "stream",
     "text": [
      "<class 'pandas.core.frame.DataFrame'>\n",
      "DatetimeIndex: 730 entries, 2018-01-01 to 2019-12-31\n",
      "Data columns (total 30 columns):\n",
      "apple          730 non-null int64\n",
      "burger         730 non-null int64\n",
      "chocolate      730 non-null int64\n",
      "donuts         730 non-null int64\n",
      "egg            730 non-null int64\n",
      "fish           730 non-null int64\n",
      "garlic         730 non-null int64\n",
      "honey          730 non-null int64\n",
      "ice cream      730 non-null int64\n",
      "jelly          730 non-null int64\n",
      "ketchup        730 non-null int64\n",
      "lemons         730 non-null int64\n",
      "mango          730 non-null int64\n",
      "oranges        730 non-null int64\n",
      "pasta          730 non-null int64\n",
      "yougurt        730 non-null int64\n",
      "quicee         730 non-null int64\n",
      "carrot         730 non-null int64\n",
      "rice           729 non-null float64\n",
      "olive oil      730 non-null int64\n",
      "yam            730 non-null int64\n",
      "popcorn        730 non-null int64\n",
      "nut            730 non-null int64\n",
      "tomato         730 non-null int64\n",
      "vegetables     730 non-null int64\n",
      "peri sauces    730 non-null int64\n",
      "mutton         730 non-null int64\n",
      "spaghetti      730 non-null int64\n",
      "wings          730 non-null int64\n",
      " prac          730 non-null int64\n",
      "dtypes: float64(1), int64(29)\n",
      "memory usage: 176.8 KB\n"
     ]
    }
   ],
   "source": [
    "data.info()"
   ]
  },
  {
   "cell_type": "code",
   "execution_count": 7,
   "metadata": {},
   "outputs": [
    {
     "data": {
      "text/plain": [
       "(730, 30)"
      ]
     },
     "execution_count": 7,
     "metadata": {},
     "output_type": "execute_result"
    }
   ],
   "source": [
    "data.shape"
   ]
  },
  {
   "cell_type": "code",
   "execution_count": 8,
   "metadata": {},
   "outputs": [
    {
     "data": {
      "text/plain": [
       "apple          0\n",
       "burger         0\n",
       "chocolate      0\n",
       "donuts         0\n",
       "egg            0\n",
       "fish           0\n",
       "garlic         0\n",
       "honey          0\n",
       "ice cream      0\n",
       "jelly          0\n",
       "ketchup        0\n",
       "lemons         0\n",
       "mango          0\n",
       "oranges        0\n",
       "pasta          0\n",
       "yougurt        0\n",
       "quicee         0\n",
       "carrot         0\n",
       "rice           1\n",
       "olive oil      0\n",
       "yam            0\n",
       "popcorn        0\n",
       "nut            0\n",
       "tomato         0\n",
       "vegetables     0\n",
       "peri sauces    0\n",
       "mutton         0\n",
       "spaghetti      0\n",
       "wings          0\n",
       " prac          0\n",
       "dtype: int64"
      ]
     },
     "execution_count": 8,
     "metadata": {},
     "output_type": "execute_result"
    }
   ],
   "source": [
    "data.isnull().sum()\n"
   ]
  },
  {
   "cell_type": "code",
   "execution_count": 9,
   "metadata": {},
   "outputs": [],
   "source": [
    "data['rice'].fillna(1, inplace=True)\n"
   ]
  },
  {
   "cell_type": "code",
   "execution_count": 10,
   "metadata": {},
   "outputs": [
    {
     "data": {
      "text/plain": [
       "apple          0\n",
       "burger         0\n",
       "chocolate      0\n",
       "donuts         0\n",
       "egg            0\n",
       "fish           0\n",
       "garlic         0\n",
       "honey          0\n",
       "ice cream      0\n",
       "jelly          0\n",
       "ketchup        0\n",
       "lemons         0\n",
       "mango          0\n",
       "oranges        0\n",
       "pasta          0\n",
       "yougurt        0\n",
       "quicee         0\n",
       "carrot         0\n",
       "rice           0\n",
       "olive oil      0\n",
       "yam            0\n",
       "popcorn        0\n",
       "nut            0\n",
       "tomato         0\n",
       "vegetables     0\n",
       "peri sauces    0\n",
       "mutton         0\n",
       "spaghetti      0\n",
       "wings          0\n",
       " prac          0\n",
       "dtype: int64"
      ]
     },
     "execution_count": 10,
     "metadata": {},
     "output_type": "execute_result"
    }
   ],
   "source": [
    "data.isnull().sum()\n"
   ]
  },
  {
   "cell_type": "code",
   "execution_count": 11,
   "metadata": {},
   "outputs": [
    {
     "data": {
      "text/html": [
       "<div>\n",
       "<style scoped>\n",
       "    .dataframe tbody tr th:only-of-type {\n",
       "        vertical-align: middle;\n",
       "    }\n",
       "\n",
       "    .dataframe tbody tr th {\n",
       "        vertical-align: top;\n",
       "    }\n",
       "\n",
       "    .dataframe thead th {\n",
       "        text-align: right;\n",
       "    }\n",
       "</style>\n",
       "<table border=\"1\" class=\"dataframe\">\n",
       "  <thead>\n",
       "    <tr style=\"text-align: right;\">\n",
       "      <th></th>\n",
       "      <th>apple</th>\n",
       "      <th>burger</th>\n",
       "      <th>chocolate</th>\n",
       "      <th>donuts</th>\n",
       "      <th>egg</th>\n",
       "      <th>fish</th>\n",
       "      <th>garlic</th>\n",
       "      <th>honey</th>\n",
       "      <th>ice cream</th>\n",
       "      <th>jelly</th>\n",
       "      <th>...</th>\n",
       "      <th>yam</th>\n",
       "      <th>popcorn</th>\n",
       "      <th>nut</th>\n",
       "      <th>tomato</th>\n",
       "      <th>vegetables</th>\n",
       "      <th>peri sauces</th>\n",
       "      <th>mutton</th>\n",
       "      <th>spaghetti</th>\n",
       "      <th>wings</th>\n",
       "      <th>prac</th>\n",
       "    </tr>\n",
       "    <tr>\n",
       "      <th>Date</th>\n",
       "      <th></th>\n",
       "      <th></th>\n",
       "      <th></th>\n",
       "      <th></th>\n",
       "      <th></th>\n",
       "      <th></th>\n",
       "      <th></th>\n",
       "      <th></th>\n",
       "      <th></th>\n",
       "      <th></th>\n",
       "      <th></th>\n",
       "      <th></th>\n",
       "      <th></th>\n",
       "      <th></th>\n",
       "      <th></th>\n",
       "      <th></th>\n",
       "      <th></th>\n",
       "      <th></th>\n",
       "      <th></th>\n",
       "      <th></th>\n",
       "      <th></th>\n",
       "    </tr>\n",
       "  </thead>\n",
       "  <tbody>\n",
       "    <tr>\n",
       "      <th>2018-01-01</th>\n",
       "      <td>0</td>\n",
       "      <td>1</td>\n",
       "      <td>1</td>\n",
       "      <td>0</td>\n",
       "      <td>1</td>\n",
       "      <td>1</td>\n",
       "      <td>0</td>\n",
       "      <td>1</td>\n",
       "      <td>1</td>\n",
       "      <td>0</td>\n",
       "      <td>...</td>\n",
       "      <td>0</td>\n",
       "      <td>0</td>\n",
       "      <td>1</td>\n",
       "      <td>0</td>\n",
       "      <td>1</td>\n",
       "      <td>0</td>\n",
       "      <td>1</td>\n",
       "      <td>1</td>\n",
       "      <td>1</td>\n",
       "      <td>1</td>\n",
       "    </tr>\n",
       "    <tr>\n",
       "      <th>2018-01-02</th>\n",
       "      <td>0</td>\n",
       "      <td>1</td>\n",
       "      <td>1</td>\n",
       "      <td>1</td>\n",
       "      <td>1</td>\n",
       "      <td>1</td>\n",
       "      <td>0</td>\n",
       "      <td>1</td>\n",
       "      <td>0</td>\n",
       "      <td>0</td>\n",
       "      <td>...</td>\n",
       "      <td>1</td>\n",
       "      <td>0</td>\n",
       "      <td>0</td>\n",
       "      <td>0</td>\n",
       "      <td>0</td>\n",
       "      <td>0</td>\n",
       "      <td>0</td>\n",
       "      <td>0</td>\n",
       "      <td>0</td>\n",
       "      <td>1</td>\n",
       "    </tr>\n",
       "    <tr>\n",
       "      <th>2018-01-03</th>\n",
       "      <td>1</td>\n",
       "      <td>1</td>\n",
       "      <td>0</td>\n",
       "      <td>0</td>\n",
       "      <td>1</td>\n",
       "      <td>0</td>\n",
       "      <td>1</td>\n",
       "      <td>0</td>\n",
       "      <td>1</td>\n",
       "      <td>1</td>\n",
       "      <td>...</td>\n",
       "      <td>0</td>\n",
       "      <td>1</td>\n",
       "      <td>0</td>\n",
       "      <td>0</td>\n",
       "      <td>1</td>\n",
       "      <td>0</td>\n",
       "      <td>1</td>\n",
       "      <td>1</td>\n",
       "      <td>1</td>\n",
       "      <td>1</td>\n",
       "    </tr>\n",
       "    <tr>\n",
       "      <th>2018-01-04</th>\n",
       "      <td>1</td>\n",
       "      <td>0</td>\n",
       "      <td>0</td>\n",
       "      <td>1</td>\n",
       "      <td>1</td>\n",
       "      <td>1</td>\n",
       "      <td>1</td>\n",
       "      <td>0</td>\n",
       "      <td>1</td>\n",
       "      <td>0</td>\n",
       "      <td>...</td>\n",
       "      <td>1</td>\n",
       "      <td>1</td>\n",
       "      <td>0</td>\n",
       "      <td>0</td>\n",
       "      <td>1</td>\n",
       "      <td>0</td>\n",
       "      <td>1</td>\n",
       "      <td>0</td>\n",
       "      <td>0</td>\n",
       "      <td>1</td>\n",
       "    </tr>\n",
       "    <tr>\n",
       "      <th>2018-01-05</th>\n",
       "      <td>0</td>\n",
       "      <td>0</td>\n",
       "      <td>0</td>\n",
       "      <td>0</td>\n",
       "      <td>1</td>\n",
       "      <td>0</td>\n",
       "      <td>0</td>\n",
       "      <td>0</td>\n",
       "      <td>0</td>\n",
       "      <td>1</td>\n",
       "      <td>...</td>\n",
       "      <td>1</td>\n",
       "      <td>0</td>\n",
       "      <td>0</td>\n",
       "      <td>0</td>\n",
       "      <td>0</td>\n",
       "      <td>0</td>\n",
       "      <td>0</td>\n",
       "      <td>1</td>\n",
       "      <td>1</td>\n",
       "      <td>1</td>\n",
       "    </tr>\n",
       "    <tr>\n",
       "      <th>...</th>\n",
       "      <td>...</td>\n",
       "      <td>...</td>\n",
       "      <td>...</td>\n",
       "      <td>...</td>\n",
       "      <td>...</td>\n",
       "      <td>...</td>\n",
       "      <td>...</td>\n",
       "      <td>...</td>\n",
       "      <td>...</td>\n",
       "      <td>...</td>\n",
       "      <td>...</td>\n",
       "      <td>...</td>\n",
       "      <td>...</td>\n",
       "      <td>...</td>\n",
       "      <td>...</td>\n",
       "      <td>...</td>\n",
       "      <td>...</td>\n",
       "      <td>...</td>\n",
       "      <td>...</td>\n",
       "      <td>...</td>\n",
       "      <td>...</td>\n",
       "    </tr>\n",
       "    <tr>\n",
       "      <th>2019-12-27</th>\n",
       "      <td>1</td>\n",
       "      <td>1</td>\n",
       "      <td>1</td>\n",
       "      <td>1</td>\n",
       "      <td>0</td>\n",
       "      <td>0</td>\n",
       "      <td>1</td>\n",
       "      <td>0</td>\n",
       "      <td>1</td>\n",
       "      <td>0</td>\n",
       "      <td>...</td>\n",
       "      <td>1</td>\n",
       "      <td>0</td>\n",
       "      <td>1</td>\n",
       "      <td>1</td>\n",
       "      <td>1</td>\n",
       "      <td>0</td>\n",
       "      <td>1</td>\n",
       "      <td>1</td>\n",
       "      <td>1</td>\n",
       "      <td>1</td>\n",
       "    </tr>\n",
       "    <tr>\n",
       "      <th>2019-12-28</th>\n",
       "      <td>0</td>\n",
       "      <td>0</td>\n",
       "      <td>1</td>\n",
       "      <td>0</td>\n",
       "      <td>1</td>\n",
       "      <td>0</td>\n",
       "      <td>0</td>\n",
       "      <td>1</td>\n",
       "      <td>1</td>\n",
       "      <td>0</td>\n",
       "      <td>...</td>\n",
       "      <td>0</td>\n",
       "      <td>1</td>\n",
       "      <td>1</td>\n",
       "      <td>1</td>\n",
       "      <td>0</td>\n",
       "      <td>1</td>\n",
       "      <td>1</td>\n",
       "      <td>0</td>\n",
       "      <td>0</td>\n",
       "      <td>1</td>\n",
       "    </tr>\n",
       "    <tr>\n",
       "      <th>2019-12-29</th>\n",
       "      <td>1</td>\n",
       "      <td>1</td>\n",
       "      <td>1</td>\n",
       "      <td>1</td>\n",
       "      <td>0</td>\n",
       "      <td>0</td>\n",
       "      <td>1</td>\n",
       "      <td>0</td>\n",
       "      <td>0</td>\n",
       "      <td>1</td>\n",
       "      <td>...</td>\n",
       "      <td>1</td>\n",
       "      <td>0</td>\n",
       "      <td>0</td>\n",
       "      <td>1</td>\n",
       "      <td>0</td>\n",
       "      <td>0</td>\n",
       "      <td>1</td>\n",
       "      <td>1</td>\n",
       "      <td>1</td>\n",
       "      <td>1</td>\n",
       "    </tr>\n",
       "    <tr>\n",
       "      <th>2019-12-30</th>\n",
       "      <td>0</td>\n",
       "      <td>1</td>\n",
       "      <td>0</td>\n",
       "      <td>1</td>\n",
       "      <td>0</td>\n",
       "      <td>0</td>\n",
       "      <td>1</td>\n",
       "      <td>0</td>\n",
       "      <td>1</td>\n",
       "      <td>1</td>\n",
       "      <td>...</td>\n",
       "      <td>1</td>\n",
       "      <td>0</td>\n",
       "      <td>1</td>\n",
       "      <td>0</td>\n",
       "      <td>0</td>\n",
       "      <td>1</td>\n",
       "      <td>0</td>\n",
       "      <td>1</td>\n",
       "      <td>0</td>\n",
       "      <td>1</td>\n",
       "    </tr>\n",
       "    <tr>\n",
       "      <th>2019-12-31</th>\n",
       "      <td>1</td>\n",
       "      <td>0</td>\n",
       "      <td>1</td>\n",
       "      <td>0</td>\n",
       "      <td>1</td>\n",
       "      <td>1</td>\n",
       "      <td>0</td>\n",
       "      <td>1</td>\n",
       "      <td>0</td>\n",
       "      <td>1</td>\n",
       "      <td>...</td>\n",
       "      <td>0</td>\n",
       "      <td>0</td>\n",
       "      <td>1</td>\n",
       "      <td>1</td>\n",
       "      <td>0</td>\n",
       "      <td>1</td>\n",
       "      <td>1</td>\n",
       "      <td>0</td>\n",
       "      <td>1</td>\n",
       "      <td>1</td>\n",
       "    </tr>\n",
       "  </tbody>\n",
       "</table>\n",
       "<p>730 rows × 30 columns</p>\n",
       "</div>"
      ],
      "text/plain": [
       "            apple  burger  chocolate  donuts  egg  fish  garlic  honey  \\\n",
       "Date                                                                     \n",
       "2018-01-01      0       1          1       0    1     1       0      1   \n",
       "2018-01-02      0       1          1       1    1     1       0      1   \n",
       "2018-01-03      1       1          0       0    1     0       1      0   \n",
       "2018-01-04      1       0          0       1    1     1       1      0   \n",
       "2018-01-05      0       0          0       0    1     0       0      0   \n",
       "...           ...     ...        ...     ...  ...   ...     ...    ...   \n",
       "2019-12-27      1       1          1       1    0     0       1      0   \n",
       "2019-12-28      0       0          1       0    1     0       0      1   \n",
       "2019-12-29      1       1          1       1    0     0       1      0   \n",
       "2019-12-30      0       1          0       1    0     0       1      0   \n",
       "2019-12-31      1       0          1       0    1     1       0      1   \n",
       "\n",
       "            ice cream  jelly  ...  yam  popcorn  nut  tomato  vegetables  \\\n",
       "Date                          ...                                          \n",
       "2018-01-01          1      0  ...    0        0    1       0           1   \n",
       "2018-01-02          0      0  ...    1        0    0       0           0   \n",
       "2018-01-03          1      1  ...    0        1    0       0           1   \n",
       "2018-01-04          1      0  ...    1        1    0       0           1   \n",
       "2018-01-05          0      1  ...    1        0    0       0           0   \n",
       "...               ...    ...  ...  ...      ...  ...     ...         ...   \n",
       "2019-12-27          1      0  ...    1        0    1       1           1   \n",
       "2019-12-28          1      0  ...    0        1    1       1           0   \n",
       "2019-12-29          0      1  ...    1        0    0       1           0   \n",
       "2019-12-30          1      1  ...    1        0    1       0           0   \n",
       "2019-12-31          0      1  ...    0        0    1       1           0   \n",
       "\n",
       "            peri sauces  mutton  spaghetti  wings   prac  \n",
       "Date                                                      \n",
       "2018-01-01            0       1          1      1      1  \n",
       "2018-01-02            0       0          0      0      1  \n",
       "2018-01-03            0       1          1      1      1  \n",
       "2018-01-04            0       1          0      0      1  \n",
       "2018-01-05            0       0          1      1      1  \n",
       "...                 ...     ...        ...    ...    ...  \n",
       "2019-12-27            0       1          1      1      1  \n",
       "2019-12-28            1       1          0      0      1  \n",
       "2019-12-29            0       1          1      1      1  \n",
       "2019-12-30            1       0          1      0      1  \n",
       "2019-12-31            1       1          0      1      1  \n",
       "\n",
       "[730 rows x 30 columns]"
      ]
     },
     "execution_count": 11,
     "metadata": {},
     "output_type": "execute_result"
    }
   ],
   "source": [
    "data"
   ]
  },
  {
   "cell_type": "code",
   "execution_count": 10,
   "metadata": {},
   "outputs": [],
   "source": [
    "train=data.iloc[:,:550]"
   ]
  },
  {
   "cell_type": "code",
   "execution_count": 11,
   "metadata": {},
   "outputs": [],
   "source": [
    "test=data.iloc[:,550:]"
   ]
  },
  {
   "cell_type": "code",
   "execution_count": 12,
   "metadata": {},
   "outputs": [
    {
     "name": "stderr",
     "output_type": "stream",
     "text": [
      "/home/fahad/anaconda3/lib/python3.7/site-packages/sklearn/preprocessing/data.py:334: DataConversionWarning: Data with input dtype int64, float64 were all converted to float64 by MinMaxScaler.\n",
      "  return self.partial_fit(X, y)\n"
     ]
    }
   ],
   "source": [
    "scalar=MinMaxScaler()\n",
    "data=scalar.fit_transform(data)"
   ]
  },
  {
   "cell_type": "code",
   "execution_count": 13,
   "metadata": {},
   "outputs": [
    {
     "name": "stdout",
     "output_type": "stream",
     "text": [
      "(547, 30) (183, 30)\n"
     ]
    }
   ],
   "source": [
    "train_size=int(len(data)* 0.75)\n",
    "test_size=len(data)-train_size\n",
    "train_data,test_data=data[0:train_size],data[train_size:len(data)]\n",
    "print(train_data.shape,test_data.shape)"
   ]
  },
  {
   "cell_type": "code",
   "execution_count": 19,
   "metadata": {},
   "outputs": [],
   "source": [
    "train_generator=TimeseriesGenerator(train_data,train_data,length=3, batch_size=1)"
   ]
  },
  {
   "cell_type": "code",
   "execution_count": 23,
   "metadata": {},
   "outputs": [],
   "source": [
    "x,y=val_generator[0]"
   ]
  },
  {
   "cell_type": "code",
   "execution_count": 24,
   "metadata": {},
   "outputs": [
    {
     "data": {
      "text/plain": [
       "array([[0., 1., 0., 0., 1., 0., 1., 1., 1., 1., 0., 1., 0., 0., 0., 1.,\n",
       "        0., 1., 1., 1., 1., 0., 1., 1., 1., 0., 1., 1., 1., 0.]])"
      ]
     },
     "execution_count": 24,
     "metadata": {},
     "output_type": "execute_result"
    }
   ],
   "source": [
    "y"
   ]
  },
  {
   "cell_type": "code",
   "execution_count": 22,
   "metadata": {},
   "outputs": [],
   "source": [
    "val_generator=TimeseriesGenerator(test_data,test_data,length=3, batch_size=1)"
   ]
  },
  {
   "cell_type": "code",
   "execution_count": 64,
   "metadata": {},
   "outputs": [],
   "source": [
    "model=Sequential()"
   ]
  },
  {
   "cell_type": "code",
   "execution_count": 68,
   "metadata": {},
   "outputs": [],
   "source": [
    "regressior = Sequential()\n",
    "\n",
    "regressior.add(LSTM(units = 60, activation = 'relu', return_sequences = True, input_shape = (3, 30)))\n",
    "regressior.add(Dropout(0.2))\n",
    "\n",
    "regressior.add(LSTM(units = 60, activation = 'relu', return_sequences = True))\n",
    "regressior.add(Dropout(0.2))\n",
    "\n",
    "regressior.add(LSTM(units = 80, activation = 'relu', return_sequences = True))\n",
    "regressior.add(Dropout(0.2))\n",
    "\n",
    "regressior.add(LSTM(units = 120, activation = 'relu'))\n",
    "regressior.add(Dropout(0.2))\n",
    "\n",
    "regressior.add(Dense(units = 30))\n",
    "optimizer = Adam(lr=1e-4)\n",
    "regressior.compile(loss='mse', optimizer=optimizer,metrics=['mae'])"
   ]
  },
  {
   "cell_type": "code",
   "execution_count": 69,
   "metadata": {},
   "outputs": [
    {
     "name": "stdout",
     "output_type": "stream",
     "text": [
      "Model: \"sequential_10\"\n",
      "_________________________________________________________________\n",
      "Layer (type)                 Output Shape              Param #   \n",
      "=================================================================\n",
      "lstm_32 (LSTM)               (None, 3, 60)             21840     \n",
      "_________________________________________________________________\n",
      "dropout_32 (Dropout)         (None, 3, 60)             0         \n",
      "_________________________________________________________________\n",
      "lstm_33 (LSTM)               (None, 3, 60)             29040     \n",
      "_________________________________________________________________\n",
      "dropout_33 (Dropout)         (None, 3, 60)             0         \n",
      "_________________________________________________________________\n",
      "lstm_34 (LSTM)               (None, 3, 80)             45120     \n",
      "_________________________________________________________________\n",
      "dropout_34 (Dropout)         (None, 3, 80)             0         \n",
      "_________________________________________________________________\n",
      "lstm_35 (LSTM)               (None, 120)               96480     \n",
      "_________________________________________________________________\n",
      "dropout_35 (Dropout)         (None, 120)               0         \n",
      "_________________________________________________________________\n",
      "dense_8 (Dense)              (None, 30)                3630      \n",
      "=================================================================\n",
      "Total params: 196,110\n",
      "Trainable params: 196,110\n",
      "Non-trainable params: 0\n",
      "_________________________________________________________________\n"
     ]
    }
   ],
   "source": [
    "regressior.summary()"
   ]
  },
  {
   "cell_type": "code",
   "execution_count": null,
   "metadata": {},
   "outputs": [],
   "source": []
  },
  {
   "cell_type": "code",
   "execution_count": 70,
   "metadata": {},
   "outputs": [
    {
     "name": "stdout",
     "output_type": "stream",
     "text": [
      "WARNING:tensorflow:sample_weight modes were coerced from\n",
      "  ...\n",
      "    to  \n",
      "  ['...']\n",
      "WARNING:tensorflow:sample_weight modes were coerced from\n",
      "  ...\n",
      "    to  \n",
      "  ['...']\n",
      "Train for 544 steps, validate for 180 steps\n",
      "Epoch 1/5\n",
      "544/544 [==============================] - 8s 15ms/step - loss: 0.3534 - mae: 0.5013 - val_loss: 0.2510 - val_mae: 0.4847\n",
      "Epoch 2/5\n",
      "544/544 [==============================] - 5s 9ms/step - loss: 0.2595 - mae: 0.4847 - val_loss: 0.2429 - val_mae: 0.4792\n",
      "Epoch 3/5\n",
      "544/544 [==============================] - 5s 9ms/step - loss: 0.2534 - mae: 0.4828 - val_loss: 0.2406 - val_mae: 0.4777\n",
      "Epoch 4/5\n",
      "544/544 [==============================] - 5s 9ms/step - loss: 0.2481 - mae: 0.4798 - val_loss: 0.2393 - val_mae: 0.4771\n",
      "Epoch 5/5\n",
      "544/544 [==============================] - 5s 9ms/step - loss: 0.2484 - mae: 0.4808 - val_loss: 0.2396 - val_mae: 0.4795\n"
     ]
    },
    {
     "data": {
      "text/plain": [
       "<tensorflow.python.keras.callbacks.History at 0x7f08f443cd30>"
      ]
     },
     "execution_count": 70,
     "metadata": {},
     "output_type": "execute_result"
    }
   ],
   "source": [
    "\n",
    "regressior.fit_generator(train_generator,epochs=5, verbose=1,validation_data=(val_generator))"
   ]
  },
  {
   "cell_type": "code",
   "execution_count": 71,
   "metadata": {},
   "outputs": [
    {
     "name": "stdout",
     "output_type": "stream",
     "text": [
      "WARNING:tensorflow:From <ipython-input-71-0aca93d9c8aa>:1: Model.predict_generator (from tensorflow.python.keras.engine.training) is deprecated and will be removed in a future version.\n",
      "Instructions for updating:\n",
      "Please use Model.predict, which supports generators.\n"
     ]
    },
    {
     "data": {
      "text/plain": [
       "array([[[0., 1., 1., ..., 0., 1., 0.],\n",
       "        [1., 1., 1., ..., 1., 0., 0.],\n",
       "        [1., 1., 0., ..., 1., 0., 0.]],\n",
       "\n",
       "       [[1., 1., 1., ..., 1., 0., 0.],\n",
       "        [1., 1., 0., ..., 1., 0., 0.],\n",
       "        [0., 1., 0., ..., 1., 1., 0.]],\n",
       "\n",
       "       [[1., 1., 0., ..., 1., 0., 0.],\n",
       "        [0., 1., 0., ..., 1., 1., 0.],\n",
       "        [1., 0., 0., ..., 1., 1., 0.]],\n",
       "\n",
       "       ...,\n",
       "\n",
       "       [[0., 0., 1., ..., 1., 0., 0.],\n",
       "        [1., 1., 1., ..., 1., 1., 0.],\n",
       "        [0., 0., 1., ..., 0., 0., 0.]],\n",
       "\n",
       "       [[1., 1., 1., ..., 1., 1., 0.],\n",
       "        [0., 0., 1., ..., 0., 0., 0.],\n",
       "        [1., 1., 1., ..., 1., 1., 0.]],\n",
       "\n",
       "       [[0., 0., 1., ..., 0., 0., 0.],\n",
       "        [1., 1., 1., ..., 1., 1., 0.],\n",
       "        [0., 1., 0., ..., 1., 0., 0.]]], dtype=float32)"
      ]
     },
     "execution_count": 71,
     "metadata": {},
     "output_type": "execute_result"
    }
   ],
   "source": [
    "model.predict_generator(val_generator)"
   ]
  },
  {
   "cell_type": "code",
   "execution_count": null,
   "metadata": {},
   "outputs": [],
   "source": []
  }
 ],
 "metadata": {
  "kernelspec": {
   "display_name": "Python 3",
   "language": "python",
   "name": "python3"
  },
  "language_info": {
   "codemirror_mode": {
    "name": "ipython",
    "version": 3
   },
   "file_extension": ".py",
   "mimetype": "text/x-python",
   "name": "python",
   "nbconvert_exporter": "python",
   "pygments_lexer": "ipython3",
   "version": "3.7.3"
  }
 },
 "nbformat": 4,
 "nbformat_minor": 2
}
